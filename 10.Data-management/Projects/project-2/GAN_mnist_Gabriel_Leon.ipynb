{
  "cells": [
    {
      "cell_type": "markdown",
      "metadata": {
        "id": "iYFpEmJtpgcW"
      },
      "source": [
        "# GAN mnist Gabriel León y Tomas Sandi"
      ]
    },
    {
      "cell_type": "markdown",
      "metadata": {},
      "source": [
        "### Importando librerías"
      ]
    },
    {
      "cell_type": "code",
      "execution_count": null,
      "metadata": {
        "id": "Qqjb_vu_f2kf"
      },
      "outputs": [],
      "source": [
        "from numpy import expand_dims\n",
        "from numpy import zeros\n",
        "from numpy import ones\n",
        "from numpy import vstack\n",
        "from numpy.random import randn\n",
        "from numpy.random import randint\n",
        "from keras.datasets.mnist import load_data\n",
        "from tensorflow.keras.optimizers import Adam\n",
        "from keras.models import Sequential\n",
        "from keras.layers import Dense\n",
        "from keras.layers import Reshape\n",
        "from keras.layers import Flatten\n",
        "from keras.layers import Conv2D\n",
        "from keras.layers import Conv2DTranspose\n",
        "from keras.layers import LeakyReLU\n",
        "from keras.layers import Dropout\n",
        "from matplotlib import pyplot\n",
        "import pandas as pd"
      ]
    },
    {
      "cell_type": "markdown",
      "metadata": {},
      "source": [
        "### Creando funciones para la red discriminadora y la generadora"
      ]
    },
    {
      "cell_type": "code",
      "execution_count": null,
      "metadata": {
        "id": "sCeJhamDf2kp"
      },
      "outputs": [],
      "source": [
        "# define the standalone discriminator model\n",
        "def define_discriminator(in_shape=(28,28,1)):\n",
        "\tmodel = Sequential()\n",
        "\tmodel.add(Conv2D(64, (3,3), strides=(2, 2), padding='same', input_shape=in_shape))\n",
        "\tmodel.add(LeakyReLU(alpha=0.2))\n",
        "\tmodel.add(Dropout(0.4))\n",
        "\tmodel.add(Conv2D(64, (3,3), strides=(2, 2), padding='same'))\n",
        "\tmodel.add(LeakyReLU(alpha=0.2))\n",
        "\tmodel.add(Dropout(0.4))\n",
        "\tmodel.add(Flatten())\n",
        "\tmodel.add(Dense(1, activation='sigmoid'))\n",
        "\t# compile model\n",
        "\topt = Adam(learning_rate=0.0002, beta_1=0.5) #beta_1 = 0.5 learning_rate=0.0002\n",
        "\tmodel.compile(loss='binary_crossentropy', optimizer=opt, metrics=['accuracy'])\n",
        "\treturn model\n",
        "\n",
        "# define the standalone generator model\n",
        "def define_generator(latent_dim):\n",
        "\tmodel = Sequential()\n",
        "\t# foundation for 7x7 image\n",
        "\tn_nodes = 128 * 7 * 7\n",
        "\tmodel.add(Dense(n_nodes, input_dim=latent_dim))\n",
        "\tmodel.add(LeakyReLU(alpha=0.2))\n",
        "\tmodel.add(Reshape((7, 7, 128)))\n",
        "\t# upsample to 14x14\n",
        "\tmodel.add(Conv2DTranspose(128, (4,4), strides=(2,2), padding='same'))\n",
        "\tmodel.add(LeakyReLU(alpha=0.2))\n",
        "\t# upsample to 28x28\n",
        "\tmodel.add(Conv2DTranspose(128, (4,4), strides=(2,2), padding='same'))\n",
        "\tmodel.add(LeakyReLU(alpha=0.2))\n",
        "\tmodel.add(Conv2D(1, (7,7), activation='sigmoid', padding='same'))\n",
        "\treturn model\n",
        "\n",
        "# define the combined generator and discriminator model, for updating the generator\n",
        "def define_gan(g_model, d_model):\n",
        "\t# make weights in the discriminator not trainable\n",
        "\td_model.trainable = False\n",
        "\t# connect them\n",
        "\tmodel = Sequential()\n",
        "\t# add generator\n",
        "\tmodel.add(g_model)\n",
        "\t# add the discriminator\n",
        "\tmodel.add(d_model)\n",
        "\t# compile model\n",
        "\topt = Adam(learning_rate=0.0002, beta_1=0.5)\n",
        "\tmodel.compile(loss='binary_crossentropy', optimizer=opt)\n",
        "\treturn model"
      ]
    },
    {
      "cell_type": "markdown",
      "metadata": {},
      "source": [
        "### Creando funciones para preparar y cargar ejemplos de Mnist"
      ]
    },
    {
      "cell_type": "code",
      "execution_count": null,
      "metadata": {
        "id": "g8_a31tUf2ks"
      },
      "outputs": [],
      "source": [
        "# load and prepare mnist training images\n",
        "def load_real_samples():\n",
        "\t# load mnist dataset\n",
        "\t(trainX, _), (_, _) = load_data()\n",
        "\t# expand to 3d, e.g. add channels dimension\n",
        "\tX = expand_dims(trainX, axis=-1)\n",
        "\t# convert from unsigned ints to floats\n",
        "\tX = X.astype('float32')\n",
        "\t# scale from [0,255] to [0,1]\n",
        "\tX = X / 255.0\n",
        "\treturn X\n",
        "\n",
        "# select real samples\n",
        "def generate_real_samples(dataset, n_samples):\n",
        "\t# choose random instances\n",
        "\tix = randint(0, dataset.shape[0], n_samples)\n",
        "\t# retrieve selected images\n",
        "\tX = dataset[ix]\n",
        "\t# generate 'real' class labels (1)\n",
        "\ty = ones((n_samples, 1))\n",
        "\treturn X, y\n",
        "\n",
        "# generate points in latent space as input for the generator\n",
        "def generate_latent_points(latent_dim, n_samples):\n",
        "\t# generate points in the latent space\n",
        "\tx_input = randn(latent_dim * n_samples)\n",
        "\t# reshape into a batch of inputs for the network\n",
        "\tx_input = x_input.reshape(n_samples, latent_dim)\n",
        "\treturn x_input\n",
        "\n",
        "# use the generator to generate n fake examples, with class labels\n",
        "def generate_fake_samples(g_model, latent_dim, n_samples):\n",
        "\t# generate points in latent space\n",
        "\tx_input = generate_latent_points(latent_dim, n_samples)\n",
        "\t# predict outputs\n",
        "\tX = g_model.predict(x_input)\n",
        "\t# create 'fake' class labels (0)\n",
        "\ty = zeros((n_samples, 1))\n",
        "\treturn X, y"
      ]
    },
    {
      "cell_type": "markdown",
      "metadata": {},
      "source": [
        "### Exportar y sintetizar los resultados"
      ]
    },
    {
      "cell_type": "code",
      "execution_count": null,
      "metadata": {
        "id": "ia4455IYf2ku"
      },
      "outputs": [],
      "source": [
        "# create and save a plot of generated images (reversed grayscale)\n",
        "def save_plot(examples, epoch, n=10):\n",
        "\t# plot images\n",
        "\tfor i in range(n * n):\n",
        "\t\t# define subplot\n",
        "\t\tpyplot.subplot(n, n, 1 + i)\n",
        "\t\t# turn off axis\n",
        "\t\tpyplot.axis('off')\n",
        "\t\t# plot raw pixel data\n",
        "\t\tpyplot.imshow(examples[i, :, :, 0], cmap='gray_r')\n",
        "\t# save plot to file\n",
        "\tfilename = 'generated_plot_e%03d.png' % (epoch+1)\n",
        "\tpyplot.savefig(filename)\n",
        "\tpyplot.close()\n",
        "\n",
        "# evaluate the discriminator, plot generated images, save generator model\n",
        "def summarize_performance(epoch, g_model, d_model, dataset, latent_dim, n_samples=100):\n",
        "\t# prepare real samples\n",
        "\tX_real, y_real = generate_real_samples(dataset, n_samples)\n",
        "\t# evaluate discriminator on real examples\n",
        "\t_, acc_real = d_model.evaluate(X_real, y_real, verbose=0)\n",
        "\t# prepare fake examples\n",
        "\tx_fake, y_fake = generate_fake_samples(g_model, latent_dim, n_samples)\n",
        "\t# evaluate discriminator on fake examples\n",
        "\t_, acc_fake = d_model.evaluate(x_fake, y_fake, verbose=0)\n",
        "\t# summarize discriminator performance\n",
        "\tprint('>Accuracy real: %.0f%%, fake: %.0f%%' % (acc_real*100, acc_fake*100))\n",
        "\t# save plot\n",
        "\tsave_plot(x_fake, epoch)\n",
        "\t# save the generator model tile file\n",
        "\tfilename = 'generator_model_%03d.h5' % (epoch + 1)\n",
        "\tg_model.save(filename)\n",
        "\treturn [acc_real, acc_fake]"
      ]
    },
    {
      "cell_type": "markdown",
      "metadata": {},
      "source": [
        "### Creando funcion para entrenar la GAN"
      ]
    },
    {
      "cell_type": "code",
      "execution_count": null,
      "metadata": {
        "id": "g16XOXpRVyb_"
      },
      "outputs": [],
      "source": [
        "# train the generator and discriminator\n",
        "def train(g_model, d_model, gan_model, dataset, latent_dim, n_epochs=100, n_batch=256):\n",
        "\tbat_per_epo = int(dataset.shape[0] / n_batch)\n",
        "\thalf_batch = int(n_batch / 2)\n",
        "\tresults_epoch = []\n",
        "\tresults_accuracy = []\n",
        "\t# manually enumerate epochs\n",
        "\tfor i in range(n_epochs):\n",
        "\t\t# enumerate batches over the training set\n",
        "\t\tfor j in range(bat_per_epo):\n",
        "\t\t\t# get randomly selected 'real' samples\n",
        "\t\t\tX_real, y_real = generate_real_samples(dataset, half_batch)\n",
        "\t\t\t# generate 'fake' examples\n",
        "\t\t\tX_fake, y_fake = generate_fake_samples(g_model, latent_dim, half_batch)\n",
        "\t\t\t# create training set for the discriminator\n",
        "\t\t\tX, y = vstack((X_real, X_fake)), vstack((y_real, y_fake))\n",
        "\t\t\t# update discriminator model weights\n",
        "\t\t\td_loss, _ = d_model.train_on_batch(X, y)\n",
        "\t\t\t# prepare points in latent space as input for the generator\n",
        "\t\t\tX_gan = generate_latent_points(latent_dim, n_batch)\n",
        "\t\t\t# create inverted labels for the fake samples\n",
        "\t\t\ty_gan = ones((n_batch, 1))\n",
        "\t\t\t# update the generator via the discriminator's error\n",
        "\t\t\tg_loss = gan_model.train_on_batch(X_gan, y_gan)\n",
        "\t\t\t# summarize loss on this batch\n",
        "\t\t\tprint('>%d, %d/%d, d=%.3f, g=%.3f' % (i+1, j+1, bat_per_epo, d_loss, g_loss))\n",
        "\t\t# evaluate the model performance, sometimes\n",
        "\t\tif (i+1) % 10 == 0:\n",
        "\t\t\tresults_accuracy.append(summarize_performance(i, g_model, d_model, dataset, latent_dim))\n",
        "\t\t\tresults_epoch.append([i+1, j+1, bat_per_epo, d_loss, g_loss])\n",
        "\t\t\t\n",
        "\treturn results_epoch, results_accuracy"
      ]
    },
    {
      "cell_type": "markdown",
      "metadata": {},
      "source": [
        "### Creando funcion para exportar los resultados a un CSV"
      ]
    },
    {
      "cell_type": "code",
      "execution_count": null,
      "metadata": {
        "id": "yi9-esWN8bSg"
      },
      "outputs": [],
      "source": [
        "def export_results(results_epoch, results_accuracy):\n",
        "  results_epoch = pd.DataFrame(results_epoch, columns =['Epochs', 'bat_per_epo', 'max_bat_per_epo', 'd_loss', 'g_loss'])\n",
        "  results_accuracy = pd.DataFrame(results_accuracy, columns=['accuracy_real', 'accuracy_fake'])\n",
        "\n",
        "  results_epoch.to_csv('results_epoch.csv')\n",
        "  results_accuracy.to_csv('results_accuracy.csv')\n",
        "  return print('Results exported!')"
      ]
    },
    {
      "cell_type": "markdown",
      "metadata": {
        "id": "ZKS1FrGJ8UyW"
      },
      "source": [
        "### mnist"
      ]
    },
    {
      "cell_type": "markdown",
      "metadata": {
        "id": "Jv6qifOS81cQ"
      },
      "source": [
        "#### latent_dim=100 n_epochs=100 n_batch=256"
      ]
    },
    {
      "cell_type": "markdown",
      "metadata": {},
      "source": [
        "En este experimento se ejecutó la red GAN con un latent_dim de 100 ya que es un estandar en el parameto para las redes GAN, para la cantidad de epocas se eligieron 100 debido a que le daba suficiente tiempo a a la red neuronal entrenarse correctamente y poder visualizar las diferencias que hay entre cada epoca."
      ]
    },
    {
      "cell_type": "code",
      "execution_count": null,
      "metadata": {
        "colab": {
          "base_uri": "https://localhost:8080/",
          "height": 1000
        },
        "id": "Hf3XJS6K8OhU",
        "outputId": "2d44a027-ced7-4ce7-ed0e-615e9fb101dc"
      },
      "outputs": [],
      "source": [
        "# size of the latent space\n",
        "latent_dim=100\n",
        "# create the discriminator\n",
        "d_model = define_discriminator()\n",
        "# create the generator\n",
        "g_model = define_generator(latent_dim)\n",
        "# create the gan\n",
        "gan_model = define_gan(g_model, d_model)\n",
        "# load image data\n",
        "dataset = load_real_samples()\n",
        "# train model\n",
        "results_epoch, results_accuracy = train(g_model, d_model, gan_model, dataset, latent_dim, n_epochs=100, n_batch=256)"
      ]
    },
    {
      "cell_type": "code",
      "execution_count": null,
      "metadata": {
        "id": "WPJj0RLaYydV"
      },
      "outputs": [],
      "source": [
        "export_results(results_epoch, results_accuracy)"
      ]
    },
    {
      "cell_type": "markdown",
      "metadata": {},
      "source": [
        "Como resultado de este experimento se obtuvo que a partir de la epoca 50 la red neuronal no obtiene mucha mejora comparandola con al epoca 100"
      ]
    },
    {
      "cell_type": "markdown",
      "metadata": {
        "id": "1xzAU57d9BSw"
      },
      "source": [
        "#### latent_dim=50 epochs=50 n_batch=256"
      ]
    },
    {
      "cell_type": "markdown",
      "metadata": {},
      "source": [
        "Para este experimento se redujo el latent_dim a 50 para ver como afectaba en los resultados y las epocas a 50 ya que en el experimento anterior no había mucha diferencia entre la epoca 50 y la 100"
      ]
    },
    {
      "cell_type": "code",
      "execution_count": null,
      "metadata": {
        "id": "dODTiiTfGnmt"
      },
      "outputs": [],
      "source": [
        "# size of the latent space\n",
        "latent_dim=50\n",
        "# create the discriminator\n",
        "d_model = define_discriminator()\n",
        "# create the generator\n",
        "g_model = define_generator(latent_dim)\n",
        "# create the gan\n",
        "gan_model = define_gan(g_model, d_model)\n",
        "# load image data\n",
        "dataset = load_real_samples()\n",
        "# train model\n",
        "results_epoch, results_accuracy = train(g_model, d_model, gan_model, dataset, latent_dim, n_epochs=50, n_batch=256)"
      ]
    },
    {
      "cell_type": "code",
      "execution_count": null,
      "metadata": {
        "id": "EFf_6Xdq9RS8"
      },
      "outputs": [],
      "source": [
        "export_results(results_epoch, results_accuracy)"
      ]
    },
    {
      "cell_type": "markdown",
      "metadata": {},
      "source": [
        "Como resultado se obtuvo un resultado similar al primer experimento con la diferencia que los numeros se podían distinguir menos los numeros entre sí"
      ]
    },
    {
      "cell_type": "markdown",
      "metadata": {
        "id": "yhcBEcVm9Tco"
      },
      "source": [
        "latent_dim=50 epochs=50 n_batch=128"
      ]
    },
    {
      "cell_type": "markdown",
      "metadata": {},
      "source": [
        "En este experimento se corrió con los mismos parametros que el experimento 2 con la unica diferencia que se redujo el batch size con el fin de ver los cambios que tenía en la generación de numeros."
      ]
    },
    {
      "cell_type": "code",
      "execution_count": null,
      "metadata": {
        "id": "71f-2xWn9b5Z"
      },
      "outputs": [],
      "source": [
        "# size of the latent space\n",
        "latent_dim=50\n",
        "# create the discriminator\n",
        "d_model = define_discriminator()\n",
        "# create the generator\n",
        "g_model = define_generator(latent_dim)\n",
        "# create the gan\n",
        "gan_model = define_gan(g_model, d_model)\n",
        "# load image data\n",
        "dataset = load_real_samples()\n",
        "# train model\n",
        "results_epoch, results_accuracy = train(g_model, d_model, gan_model, dataset, latent_dim, n_epochs=50, n_batch=128)"
      ]
    },
    {
      "cell_type": "code",
      "execution_count": null,
      "metadata": {
        "id": "zroFYBCJ9et3"
      },
      "outputs": [],
      "source": [
        "export_results(results_epoch, results_accuracy)"
      ]
    },
    {
      "cell_type": "markdown",
      "metadata": {},
      "source": [
        "Como resultado se obtuvieron resultados similares solo que se duró más entreandose y los numeros eran un poco más legibles."
      ]
    },
    {
      "cell_type": "markdown",
      "metadata": {
        "id": "-CRX9WdD9has"
      },
      "source": [
        "## Use the GAN"
      ]
    },
    {
      "cell_type": "code",
      "execution_count": null,
      "metadata": {
        "id": "mBOtdDXo_8Pv"
      },
      "outputs": [],
      "source": [
        "# example of loading the generator model and generating images\n",
        "from keras.models import load_model\n",
        "from numpy.random import randn\n",
        "from matplotlib import pyplot\n",
        "\n",
        "# generate points in latent space as input for the generator\n",
        "def generate_latent_points(latent_dim, n_samples):\n",
        "\t# generate points in the latent space\n",
        "\tx_input = randn(latent_dim * n_samples)\n",
        "\t# reshape into a batch of inputs for the network\n",
        "\tx_input = x_input.reshape(n_samples, latent_dim)\n",
        "\treturn x_input\n",
        "\n",
        "# create and save a plot of generated images (reversed grayscale)\n",
        "def save_plot(examples, n):\n",
        "\t# plot images\n",
        "\tfor i in range(n * n):\n",
        "\t\t# define subplot\n",
        "\t\tpyplot.subplot(n, n, 1 + i)\n",
        "\t\t# turn off axis\n",
        "\t\tpyplot.axis('off')\n",
        "\t\t# plot raw pixel data\n",
        "\t\tpyplot.imshow(examples[i, :, :, 0], cmap='gray_r')\n",
        "\tpyplot.show()\n",
        "\n",
        "# load model\n",
        "model = load_model('generator_model_100.h5')\n",
        "# generate images\n",
        "latent_points = generate_latent_points(100, 25)\n",
        "# generate images\n",
        "X = model.predict(latent_points)\n",
        "# plot the result\n",
        "save_plot(X, 5)"
      ]
    },
    {
      "cell_type": "code",
      "execution_count": null,
      "metadata": {
        "id": "-8egoCM8iD1B"
      },
      "outputs": [],
      "source": [
        "# example of generating an image for a specific point in the latent space\n",
        "from keras.models import load_model\n",
        "from numpy import asarray\n",
        "from matplotlib import pyplot\n",
        "# load model\n",
        "model = load_model('generator_model_100.h5')\n",
        "# all 0s\n",
        "vector = asarray([[0.0 for _ in range(100)]])\n",
        "# generate image\n",
        "X = model.predict(vector)\n",
        "# plot the result\n",
        "pyplot.imshow(X[0, :, :, 0], cmap='gray_r')\n",
        "pyplot.show()"
      ]
    },
    {
      "cell_type": "markdown",
      "metadata": {
        "id": "LY8A8Rv7ppTk"
      },
      "source": [
        "## Fashion mnist "
      ]
    },
    {
      "cell_type": "code",
      "execution_count": null,
      "metadata": {
        "id": "E8HCjv8Tpr9J"
      },
      "outputs": [],
      "source": [
        "from keras.datasets.fashion_mnist import load_data"
      ]
    },
    {
      "cell_type": "code",
      "execution_count": null,
      "metadata": {
        "id": "MlnHy-RCCU4T"
      },
      "outputs": [],
      "source": [
        "def save_plot(examples, epoch, n=10):\n",
        "\t# plot images\n",
        "\tfor i in range(n * n):\n",
        "\t\t# define subplot\n",
        "\t\tpyplot.subplot(n, n, 1 + i)\n",
        "\t\t# turn off axis\n",
        "\t\tpyplot.axis('off')\n",
        "\t\t# plot raw pixel data\n",
        "\t\tpyplot.imshow(examples[i, :, :, 0], cmap='gray_r')\n",
        "\t# save plot to file\n",
        "\tfilename = 'generated_plot_e%03d.png' % (epoch+1)\n",
        "\tpyplot.savefig(filename)\n",
        "\tpyplot.close()\n",
        "\n",
        "def summarize_performance(epoch, g_model, d_model, dataset, latent_dim, n_samples=100):\n",
        "  # prepare real samples\n",
        "  X_real, y_real = generate_real_samples(dataset, n_samples)\n",
        "  # evaluate discriminator on real examples\n",
        "  _, acc_real = d_model.evaluate(X_real, y_real, verbose=0)\n",
        "  # prepare fake examples\n",
        "  x_fake, y_fake = generate_fake_samples(g_model, latent_dim, n_samples)\n",
        "  # evaluate discriminator on fake examples\n",
        "  _, acc_fake = d_model.evaluate(x_fake, y_fake, verbose=0)\n",
        "  # summarize discriminator performance\n",
        "  print('>Accuracy real: %.0f%%, fake: %.0f%%' % (acc_real*100, acc_fake*100))\n",
        "  # save plot\n",
        "  save_plot(x_fake, epoch)\n",
        "  # save the generator model tile file\n",
        "  filename = 'generator_model_%03d.h5' % (epoch + 1)\n",
        "  g_model.save(filename)\n",
        "  return [acc_real, acc_fake]"
      ]
    },
    {
      "cell_type": "code",
      "execution_count": null,
      "metadata": {
        "id": "S1cx2HUfD2Yl"
      },
      "outputs": [],
      "source": [
        "def train(g_model, d_model, gan_model, dataset, latent_dim, n_epochs=100, n_batch=256):\n",
        "\tbat_per_epo = int(dataset.shape[0] / n_batch)\n",
        "\thalf_batch = int(n_batch / 2)\n",
        "\tresults_epoch = []\n",
        "\tresults_accuracy = []\n",
        "\t# manually enumerate epochs\n",
        "\tfor i in range(n_epochs):\n",
        "\t\t# enumerate batches over the training set\n",
        "\t\tfor j in range(bat_per_epo):\n",
        "\t\t\t# get randomly selected 'real' samples\n",
        "\t\t\tX_real, y_real = generate_real_samples(dataset, half_batch)\n",
        "\t\t\t# generate 'fake' examples\n",
        "\t\t\tX_fake, y_fake = generate_fake_samples(g_model, latent_dim, half_batch)\n",
        "\t\t\t# create training set for the discriminator\n",
        "\t\t\tX, y = vstack((X_real, X_fake)), vstack((y_real, y_fake))\n",
        "\t\t\t# update discriminator model weights\n",
        "\t\t\td_loss, _ = d_model.train_on_batch(X, y)\n",
        "\t\t\t# prepare points in latent space as input for the generator\n",
        "\t\t\tX_gan = generate_latent_points(latent_dim, n_batch)\n",
        "\t\t\t# create inverted labels for the fake samples\n",
        "\t\t\ty_gan = ones((n_batch, 1))\n",
        "\t\t\t# update the generator via the discriminator's error\n",
        "\t\t\tg_loss = gan_model.train_on_batch(X_gan, y_gan)\n",
        "\t\t\t# summarize loss on this batch\n",
        "\t\t\tprint('>%d, %d/%d, d=%.3f, g=%.3f' % (i+1, j+1, bat_per_epo, d_loss, g_loss))\n",
        "\t\t# evaluate the model performance, sometimes\n",
        "\t\tif (i+1) % 10 == 0:\n",
        "\t\t\tresults_accuracy.append(summarize_performance(i, g_model, d_model, dataset, latent_dim))\n",
        "\t\t\tresults_epoch.append([i+1, j+1, bat_per_epo, d_loss, g_loss])\n",
        "\t\t\t\n",
        "\treturn results_epoch, results_accuracy"
      ]
    },
    {
      "cell_type": "code",
      "execution_count": null,
      "metadata": {
        "id": "SrGCMNUoOiLo"
      },
      "outputs": [],
      "source": [
        "def export_results(results_epoch, results_accuracy):\n",
        "  results_epoch = pd.DataFrame(results_epoch, columns =['Epochs', 'bat_per_epo', 'max_bat_per_epo', 'd_loss', 'g_loss'])\n",
        "  results_accuracy = pd.DataFrame(results_accuracy, columns=['accuracy_real', 'accuracy_fake'])\n",
        "\n",
        "  results_epoch.to_csv('results_epoch.csv')\n",
        "  results_accuracy.to_csv('results_accuracy.csv')\n",
        "  return print('Results exported!')"
      ]
    },
    {
      "cell_type": "markdown",
      "metadata": {
        "id": "hRyvh_7VOpbG"
      },
      "source": [
        "#### latent_dim=100 n_epochs=100 n_batch=256"
      ]
    },
    {
      "cell_type": "code",
      "execution_count": null,
      "metadata": {
        "colab": {
          "base_uri": "https://localhost:8080/"
        },
        "id": "yGBwLhNW-Zpm",
        "outputId": "9cd8ceeb-baf1-4a42-84e0-d0d061a28227"
      },
      "outputs": [],
      "source": [
        "# size of the latent space\n",
        "latent_dim=100\n",
        "# create the discriminator\n",
        "d_model = define_discriminator()\n",
        "# create the generator\n",
        "g_model = define_generator(latent_dim)\n",
        "# create the gan\n",
        "gan_model = define_gan(g_model, d_model)\n",
        "# load image data\n",
        "dataset = load_real_samples()\n",
        "# train model\n",
        "results_epoch, results_accuracy = train(g_model, d_model, gan_model, dataset, latent_dim, n_epochs=100, n_batch=256)\n",
        "#train(g_model, d_model, gan_model, dataset, latent_dim, n_epochs=10, n_batch=256)"
      ]
    },
    {
      "cell_type": "code",
      "execution_count": null,
      "metadata": {
        "colab": {
          "base_uri": "https://localhost:8080/"
        },
        "id": "Rsf2U932Oop0",
        "outputId": "96979d02-cbd9-411b-9f41-ed4aff55dcc9"
      },
      "outputs": [],
      "source": [
        "export_results(results_epoch, results_accuracy)"
      ]
    },
    {
      "cell_type": "markdown",
      "metadata": {
        "id": "scaLMZQ3jT8W"
      },
      "source": [
        "#### latent_dim=50 n_epochs=50 n_batch=256"
      ]
    },
    {
      "cell_type": "code",
      "execution_count": null,
      "metadata": {
        "colab": {
          "base_uri": "https://localhost:8080/"
        },
        "id": "CtniCFbHjV5Y",
        "outputId": "64495d8e-1f65-45c9-a5ab-0b1f125bdf5e"
      },
      "outputs": [],
      "source": [
        "# size of the latent space\n",
        "latent_dim=50\n",
        "# create the discriminator\n",
        "d_model = define_discriminator()\n",
        "# create the generator\n",
        "g_model = define_generator(latent_dim)\n",
        "# create the gan\n",
        "gan_model = define_gan(g_model, d_model)\n",
        "# load image data\n",
        "dataset = load_real_samples()\n",
        "# train model\n",
        "results_epoch, results_accuracy = train(g_model, d_model, gan_model, dataset, latent_dim, n_epochs=50, n_batch=256)\n",
        "#train(g_model, d_model, gan_model, dataset, latent_dim, n_epochs=10, n_batch=256)"
      ]
    },
    {
      "cell_type": "code",
      "execution_count": null,
      "metadata": {
        "colab": {
          "base_uri": "https://localhost:8080/"
        },
        "id": "EbVfQzBBjhXm",
        "outputId": "f94b7d32-521a-46c0-e8b0-04b8bb758ed8"
      },
      "outputs": [],
      "source": [
        "export_results(results_epoch, results_accuracy)"
      ]
    },
    {
      "cell_type": "markdown",
      "metadata": {
        "id": "AkwcJfFv05Xg"
      },
      "source": [
        "### latent_dim=50 epochs=50 n_batch=128"
      ]
    },
    {
      "cell_type": "code",
      "execution_count": null,
      "metadata": {
        "colab": {
          "base_uri": "https://localhost:8080/"
        },
        "id": "dZKQm_Ccjid4",
        "outputId": "56aa2ea5-d3e3-4f9b-f858-82b426dc258e"
      },
      "outputs": [],
      "source": [
        "# size of the latent space\n",
        "latent_dim=50\n",
        "# create the discriminator\n",
        "d_model = define_discriminator()\n",
        "# create the generator\n",
        "g_model = define_generator(latent_dim)\n",
        "# create the gan\n",
        "gan_model = define_gan(g_model, d_model)\n",
        "# load image data\n",
        "dataset = load_real_samples()\n",
        "# train model\n",
        "results_epoch, results_accuracy = train(g_model, d_model, gan_model, dataset, latent_dim, n_epochs=50, n_batch=128)\n",
        "#train(g_model, d_model, gan_model, dataset, latent_dim, n_epochs=10, n_batch=256)"
      ]
    },
    {
      "cell_type": "code",
      "execution_count": null,
      "metadata": {
        "colab": {
          "base_uri": "https://localhost:8080/"
        },
        "id": "qLVdbeFE1CaX",
        "outputId": "7ccedb84-9540-4052-c2db-d55f79cf041f"
      },
      "outputs": [],
      "source": [
        "export_results(results_epoch, results_accuracy)"
      ]
    }
  ],
  "metadata": {
    "accelerator": "GPU",
    "colab": {
      "collapsed_sections": [],
      "name": "GAN_mnist_Gabriel_Leon.ipynb",
      "provenance": []
    },
    "gpuClass": "standard",
    "kernelspec": {
      "display_name": "Python 3.9.12 ('base')",
      "language": "python",
      "name": "python3"
    },
    "language_info": {
      "codemirror_mode": {
        "name": "ipython",
        "version": 3
      },
      "file_extension": ".py",
      "mimetype": "text/x-python",
      "name": "python",
      "nbconvert_exporter": "python",
      "pygments_lexer": "ipython3",
      "version": "3.9.12"
    },
    "vscode": {
      "interpreter": {
        "hash": "f49206fcf84a9145e7e21228cbafa911d1ac18292303b01e865d8267a9c448f7"
      }
    }
  },
  "nbformat": 4,
  "nbformat_minor": 0
}
