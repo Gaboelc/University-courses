{
 "cells": [
  {
   "cell_type": "markdown",
   "metadata": {},
   "source": [
    "### Importing libraries"
   ]
  },
  {
   "cell_type": "code",
   "execution_count": 1,
   "metadata": {},
   "outputs": [],
   "source": [
    "import pandas as pd"
   ]
  },
  {
   "cell_type": "markdown",
   "metadata": {},
   "source": [
    "## Reading files"
   ]
  },
  {
   "cell_type": "code",
   "execution_count": 2,
   "metadata": {},
   "outputs": [],
   "source": [
    "results = pd.read_csv('Data/results.csv')\n",
    "\n",
    "drivers = pd.read_csv('Data/drivers.csv', encoding='latin-1')\n",
    "driverStanding = pd.read_csv('Data/driverStandings.csv')\n",
    "\n",
    "circuits = pd.read_csv('Data/circuits.csv', encoding='latin-1')\n",
    "races =  pd.read_csv('Data/races.csv')\n",
    "\n",
    "constructors = pd.read_csv('Data/constructors.csv')\n",
    "constructorResult = pd.read_csv('Data/constructorResults.csv')\n",
    "constructorStanding = pd.read_csv('Data/constructorStandings.csv')\n",
    "\n",
    "pitStops =  pd.read_csv('Data/pitStops.csv')\n",
    "\n",
    "qualifying = pd.read_csv('Data/qualifying.csv')\n",
    "\n",
    "weather = pd.read_csv('Data/Weather_SafetyCar.csv')"
   ]
  },
  {
   "cell_type": "markdown",
   "metadata": {},
   "source": [
    "## Droping and renaming columns "
   ]
  },
  {
   "cell_type": "code",
   "execution_count": 3,
   "metadata": {},
   "outputs": [],
   "source": [
    "results.drop(columns=['fastestLapTime', 'fastestLap', 'time', 'positionText', 'position', 'number', 'milliseconds'], inplace=True)\n",
    "\n",
    "drivers.drop(columns=['number', 'dob', 'nationality', 'url', 'forename', 'surname', 'code'], inplace=True)\n",
    "driverStanding.drop(columns=['positionText'], inplace=True)\n",
    "\n",
    "circuits.drop(columns=['alt', 'url', 'location', 'country', 'circuitRef'], inplace=True)\n",
    "races.drop(columns=['url', 'time'], inplace=True)\n",
    "\n",
    "constructors.drop(columns=['url', 'Unnamed: 5'], inplace=True)\n",
    "constructorResult.drop(columns=['status'], inplace=True)\n",
    "constructorStanding.drop(columns=['positionText', 'Unnamed: 7'], inplace=True)\n",
    "\n",
    "pitStops.drop(columns=['time'], inplace=True)\n",
    "\n",
    "qualifying.drop(columns=['q1', 'q2', 'q3'], inplace=True)\n",
    "\n",
    "weather.drop(columns=['SC Laps'], inplace=True)"
   ]
  },
  {
   "cell_type": "code",
   "execution_count": 4,
   "metadata": {},
   "outputs": [],
   "source": [
    "results.rename(columns={'points': 'points results'}, inplace=True)\n",
    "\n",
    "driverStanding.rename(columns={'points': 'points driver standing'}, inplace=True)\n",
    "\n",
    "circuits.rename(columns={'name': 'circuit name'}, inplace=True)\n",
    "races.rename(columns={'name': 'race name'}, inplace=True)\n",
    "weather.rename(columns={'name': 'race name'}, inplace=True)\n",
    "\n",
    "constructorResult.rename(columns={'points': 'points constructor results'}, inplace=True)\n",
    "constructorStanding.rename(columns={'points': 'points constructor standing',\n",
    "                                    'position': 'position constructor standing',\n",
    "                                    'wins': 'Wins constrcuntor standing'}, inplace=True)"
   ]
  },
  {
   "cell_type": "markdown",
   "metadata": {},
   "source": [
    "## Merging all the files in one"
   ]
  },
  {
   "cell_type": "code",
   "execution_count": 5,
   "metadata": {},
   "outputs": [],
   "source": [
    "driver_table = pd.merge(drivers, driverStanding, on='driverId').dropna()\n",
    "driver_table.drop(columns=['driverRef', 'driverStandingsId'], inplace=True)\n",
    "\n",
    "race_circuit_table = pd.merge(pd.merge(circuits, races, on='circuitId'), weather, on=['year', 'race name']).dropna()\n",
    "race_circuit_table.drop(columns=['circuit name', 'round', 'race name'], inplace=True)\n",
    "\n",
    "constructors_table = pd.merge(pd.merge(constructors, constructorStanding, on='constructorId'), constructorResult, on=['constructorId', 'raceId']).dropna()\n",
    "constructors_table.drop(columns=['constructorRef', 'name', 'nationality', 'constructorStandingsId', 'constructorResultsId'],  inplace=True)"
   ]
  },
  {
   "cell_type": "code",
   "execution_count": 6,
   "metadata": {},
   "outputs": [],
   "source": [
    "results_driver_table = pd.merge(driver_table, results, on=['driverId', 'raceId'])\n",
    "\n",
    "results = pd.merge(results, race_circuit_table, on='raceId')\n",
    "\n",
    "results = pd.merge(results, constructors_table, on=['constructorId', 'raceId'])"
   ]
  },
  {
   "cell_type": "markdown",
   "metadata": {},
   "source": [
    "## creating and sorting columns"
   ]
  },
  {
   "cell_type": "code",
   "execution_count": 7,
   "metadata": {},
   "outputs": [],
   "source": [
    "results['weather_numeric'] = results['weather'].replace({'Dry': 0, 'Wet': 1, 'Varied': 2})\n",
    "results['race finished'] = results['statusId'].apply(lambda x: 0 if x == 1 else 1)\n",
    "results = results[['resultId', 'raceId', 'driverId', 'constructorId', 'circuitId', 'statusId', 'grid', 'positionOrder',\n",
    "                   'points results', 'laps', 'rank', 'fastestLapSpeed', 'lat', 'lng', 'date', 'year', 'weather',\n",
    "                   'weather_numeric', 'points constructor standing', 'position constructor standing',\n",
    "                   'Wins constrcuntor standing', 'points constructor results', 'race finished']]\n",
    "\n"
   ]
  },
  {
   "cell_type": "code",
   "execution_count": 16,
   "metadata": {},
   "outputs": [
    {
     "data": {
      "text/plain": [
       "['resultId',\n",
       " 'raceId',\n",
       " 'driverId',\n",
       " 'constructorId',\n",
       " 'circuitId',\n",
       " 'statusId',\n",
       " 'grid',\n",
       " 'positionOrder',\n",
       " 'points results',\n",
       " 'laps',\n",
       " 'rank',\n",
       " 'fastestLapSpeed',\n",
       " 'lat',\n",
       " 'lng',\n",
       " 'date',\n",
       " 'year',\n",
       " 'weather',\n",
       " 'weather_numeric',\n",
       " 'points constructor standing',\n",
       " 'position constructor standing',\n",
       " 'Wins constrcuntor standing',\n",
       " 'points constructor results',\n",
       " 'race finished']"
      ]
     },
     "execution_count": 16,
     "metadata": {},
     "output_type": "execute_result"
    }
   ],
   "source": [
    "#pd.set_options('display.max_columns', 100)\n",
    "#results.head(10)\n",
    "list(results)"
   ]
  },
  {
   "cell_type": "markdown",
   "metadata": {},
   "source": [
    "## Exporting data to csv"
   ]
  },
  {
   "cell_type": "code",
   "execution_count": 8,
   "metadata": {},
   "outputs": [
    {
     "ename": "PermissionError",
     "evalue": "[Errno 13] Permission denied: 'total_data/results.csv'",
     "output_type": "error",
     "traceback": [
      "\u001b[1;31m---------------------------------------------------------------------------\u001b[0m",
      "\u001b[1;31mPermissionError\u001b[0m                           Traceback (most recent call last)",
      "\u001b[1;32m<ipython-input-8-7cf54acb5fcb>\u001b[0m in \u001b[0;36m<module>\u001b[1;34m\u001b[0m\n\u001b[1;32m----> 1\u001b[1;33m \u001b[0mresults\u001b[0m\u001b[1;33m.\u001b[0m\u001b[0mto_csv\u001b[0m\u001b[1;33m(\u001b[0m\u001b[1;34m'total_data/results.csv'\u001b[0m\u001b[1;33m,\u001b[0m \u001b[0mindex\u001b[0m\u001b[1;33m=\u001b[0m\u001b[1;32mFalse\u001b[0m\u001b[1;33m)\u001b[0m\u001b[1;33m\u001b[0m\u001b[1;33m\u001b[0m\u001b[0m\n\u001b[0m",
      "\u001b[1;32m~\\AppData\\Roaming\\Python\\Python38\\site-packages\\pandas\\core\\generic.py\u001b[0m in \u001b[0;36mto_csv\u001b[1;34m(self, path_or_buf, sep, na_rep, float_format, columns, header, index, index_label, mode, encoding, compression, quoting, quotechar, line_terminator, chunksize, date_format, doublequote, escapechar, decimal)\u001b[0m\n\u001b[0;32m   3202\u001b[0m             \u001b[0mdecimal\u001b[0m\u001b[1;33m=\u001b[0m\u001b[0mdecimal\u001b[0m\u001b[1;33m,\u001b[0m\u001b[1;33m\u001b[0m\u001b[1;33m\u001b[0m\u001b[0m\n\u001b[0;32m   3203\u001b[0m         )\n\u001b[1;32m-> 3204\u001b[1;33m         \u001b[0mformatter\u001b[0m\u001b[1;33m.\u001b[0m\u001b[0msave\u001b[0m\u001b[1;33m(\u001b[0m\u001b[1;33m)\u001b[0m\u001b[1;33m\u001b[0m\u001b[1;33m\u001b[0m\u001b[0m\n\u001b[0m\u001b[0;32m   3205\u001b[0m \u001b[1;33m\u001b[0m\u001b[0m\n\u001b[0;32m   3206\u001b[0m         \u001b[1;32mif\u001b[0m \u001b[0mpath_or_buf\u001b[0m \u001b[1;32mis\u001b[0m \u001b[1;32mNone\u001b[0m\u001b[1;33m:\u001b[0m\u001b[1;33m\u001b[0m\u001b[1;33m\u001b[0m\u001b[0m\n",
      "\u001b[1;32m~\\AppData\\Roaming\\Python\\Python38\\site-packages\\pandas\\io\\formats\\csvs.py\u001b[0m in \u001b[0;36msave\u001b[1;34m(self)\u001b[0m\n\u001b[0;32m    182\u001b[0m             \u001b[0mclose\u001b[0m \u001b[1;33m=\u001b[0m \u001b[1;32mFalse\u001b[0m\u001b[1;33m\u001b[0m\u001b[1;33m\u001b[0m\u001b[0m\n\u001b[0;32m    183\u001b[0m         \u001b[1;32melse\u001b[0m\u001b[1;33m:\u001b[0m\u001b[1;33m\u001b[0m\u001b[1;33m\u001b[0m\u001b[0m\n\u001b[1;32m--> 184\u001b[1;33m             f, handles = get_handle(\n\u001b[0m\u001b[0;32m    185\u001b[0m                 \u001b[0mself\u001b[0m\u001b[1;33m.\u001b[0m\u001b[0mpath_or_buf\u001b[0m\u001b[1;33m,\u001b[0m\u001b[1;33m\u001b[0m\u001b[1;33m\u001b[0m\u001b[0m\n\u001b[0;32m    186\u001b[0m                 \u001b[0mself\u001b[0m\u001b[1;33m.\u001b[0m\u001b[0mmode\u001b[0m\u001b[1;33m,\u001b[0m\u001b[1;33m\u001b[0m\u001b[1;33m\u001b[0m\u001b[0m\n",
      "\u001b[1;32m~\\AppData\\Roaming\\Python\\Python38\\site-packages\\pandas\\io\\common.py\u001b[0m in \u001b[0;36mget_handle\u001b[1;34m(path_or_buf, mode, encoding, compression, memory_map, is_text)\u001b[0m\n\u001b[0;32m    426\u001b[0m         \u001b[1;32mif\u001b[0m \u001b[0mencoding\u001b[0m\u001b[1;33m:\u001b[0m\u001b[1;33m\u001b[0m\u001b[1;33m\u001b[0m\u001b[0m\n\u001b[0;32m    427\u001b[0m             \u001b[1;31m# Encoding\u001b[0m\u001b[1;33m\u001b[0m\u001b[1;33m\u001b[0m\u001b[1;33m\u001b[0m\u001b[0m\n\u001b[1;32m--> 428\u001b[1;33m             \u001b[0mf\u001b[0m \u001b[1;33m=\u001b[0m \u001b[0mopen\u001b[0m\u001b[1;33m(\u001b[0m\u001b[0mpath_or_buf\u001b[0m\u001b[1;33m,\u001b[0m \u001b[0mmode\u001b[0m\u001b[1;33m,\u001b[0m \u001b[0mencoding\u001b[0m\u001b[1;33m=\u001b[0m\u001b[0mencoding\u001b[0m\u001b[1;33m,\u001b[0m \u001b[0mnewline\u001b[0m\u001b[1;33m=\u001b[0m\u001b[1;34m\"\"\u001b[0m\u001b[1;33m)\u001b[0m\u001b[1;33m\u001b[0m\u001b[1;33m\u001b[0m\u001b[0m\n\u001b[0m\u001b[0;32m    429\u001b[0m         \u001b[1;32melif\u001b[0m \u001b[0mis_text\u001b[0m\u001b[1;33m:\u001b[0m\u001b[1;33m\u001b[0m\u001b[1;33m\u001b[0m\u001b[0m\n\u001b[0;32m    430\u001b[0m             \u001b[1;31m# No explicit encoding\u001b[0m\u001b[1;33m\u001b[0m\u001b[1;33m\u001b[0m\u001b[1;33m\u001b[0m\u001b[0m\n",
      "\u001b[1;31mPermissionError\u001b[0m: [Errno 13] Permission denied: 'total_data/results.csv'"
     ]
    }
   ],
   "source": [
    "results.to_csv('total_data/results.csv', index=False)"
   ]
  }
 ],
 "metadata": {
  "kernelspec": {
   "display_name": "Python 3",
   "language": "python",
   "name": "python3"
  },
  "language_info": {
   "codemirror_mode": {
    "name": "ipython",
    "version": 3
   },
   "file_extension": ".py",
   "mimetype": "text/x-python",
   "name": "python",
   "nbconvert_exporter": "python",
   "pygments_lexer": "ipython3",
   "version": "3.8.5"
  }
 },
 "nbformat": 4,
 "nbformat_minor": 4
}
